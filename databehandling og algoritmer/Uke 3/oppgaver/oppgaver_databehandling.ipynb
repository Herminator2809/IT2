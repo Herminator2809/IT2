{
 "cells": [
  {
   "cell_type": "code",
   "execution_count": 1,
   "metadata": {},
   "outputs": [
    {
     "name": "stdout",
     "output_type": "stream",
     "text": [
      "Spotify weekly top songs global 2023 uke 2\n"
     ]
    }
   ],
   "source": [
    "print(\"Spotify weekly top songs global 2023 uke 2\")"
   ]
  },
  {
   "cell_type": "code",
   "execution_count": 1,
   "metadata": {},
   "outputs": [],
   "source": [
    "import json\n",
    "with open(\"spotify.json\", encoding=\"utf-8\") as fil:\n",
    "    sanger = json.load(fil)"
   ]
  },
  {
   "cell_type": "code",
   "execution_count": 2,
   "metadata": {},
   "outputs": [
    {
     "name": "stdout",
     "output_type": "stream",
     "text": [
      "{'navn': 'La Diabla', 'artist': 'Xavi', 'bilde_url': 'https://i.scdn.co/image/ab67616d00001e021501c770de50a22b25d67611', 'plassering': 1, 'forrige_plassering': 2, 'topplassering': 1, 'topp_dato': '2024-01-11', 'uker_paa_listen': 5, 'antall_streams': 34195950}\n"
     ]
    }
   ],
   "source": [
    "print(sanger[0])"
   ]
  },
  {
   "cell_type": "code",
   "execution_count": 13,
   "metadata": {},
   "outputs": [
    {
     "name": "stdout",
     "output_type": "stream",
     "text": [
      "Believer er sangen som har vært lengst på topp listen med hele 358 uker\n"
     ]
    }
   ],
   "source": [
    "# Oppgave 1.1\n",
    "\n",
    "mest_uker = float(\"-inf\")\n",
    "mest_navn = \"tullenavn\"\n",
    "\n",
    "for sang in sanger:\n",
    "    if sang[\"uker_paa_listen\"] > mest_uker:\n",
    "        mest_uker = sang[\"uker_paa_listen\"]\n",
    "        mest_navn = sang[\"navn\"]\n",
    "\n",
    "print(f\"{mest_navn} er sangen som har vært lengst på topp listen med hele {mest_uker} uker\")"
   ]
  },
  {
   "cell_type": "code",
   "execution_count": 6,
   "metadata": {},
   "outputs": [
    {
     "name": "stdout",
     "output_type": "stream",
     "text": [
      "120017297 er totale streams taylor har på alle sangene som er på topplisten\n"
     ]
    }
   ],
   "source": [
    "# Oppgave 1.2\n",
    "\n",
    "totalstreams = 0\n",
    "for sang in sanger:\n",
    "    if sang[\"artist\"] == \"Taylor Swift\":\n",
    "        totalstreams += sang[\"antall_streams\"]\n",
    "\n",
    "print(f\"{totalstreams} er totale streams taylor har på alle sangene som er på topplisten\")"
   ]
  }
 ],
 "metadata": {
  "kernelspec": {
   "display_name": "Python 3",
   "language": "python",
   "name": "python3"
  },
  "language_info": {
   "codemirror_mode": {
    "name": "ipython",
    "version": 3
   },
   "file_extension": ".py",
   "mimetype": "text/x-python",
   "name": "python",
   "nbconvert_exporter": "python",
   "pygments_lexer": "ipython3",
   "version": "3.11.3"
  },
  "orig_nbformat": 4
 },
 "nbformat": 4,
 "nbformat_minor": 2
}
